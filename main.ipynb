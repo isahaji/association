{
 "metadata": {
  "language_info": {
   "codemirror_mode": {
    "name": "ipython",
    "version": 3
   },
   "file_extension": ".py",
   "mimetype": "text/x-python",
   "name": "python",
   "nbconvert_exporter": "python",
   "pygments_lexer": "ipython3",
   "version": "3.9.2"
  },
  "orig_nbformat": 4,
  "kernelspec": {
   "name": "python3",
   "display_name": "Python 3.9.2 64-bit"
  },
  "interpreter": {
   "hash": "aee8b7b246df8f9039afb4144a1f6fd8d2ca17a180786b69acc140d282b71a49"
  }
 },
 "nbformat": 4,
 "nbformat_minor": 2,
 "cells": [
  {
   "cell_type": "code",
   "execution_count": null,
   "metadata": {},
   "outputs": [],
   "source": [
    "import numpy as np\n",
    "import pandas as pd\n",
    "import seaborn as sns\n",
    "import matplotlib.pyplot as plt \n",
    "from mlxtend.frequent_patterns import apriori\n",
    "from mlxtend.frequent_patterns import association_rules\n",
    "from mlxtend.preprocessing import TransactionEncoder"
   ]
  },
  {
   "cell_type": "code",
   "execution_count": 10,
   "metadata": {},
   "outputs": [],
   "source": [
    "df = pd.read_csv(\"mb.csv\")"
   ]
  },
  {
   "cell_type": "code",
   "execution_count": 12,
   "metadata": {},
   "outputs": [
    {
     "output_type": "execute_result",
     "data": {
      "text/plain": [
       "             shrimp            almonds        avocado vegetables mix  \\\n",
       "4928  grated cheese        ground beef  mineral water       pancakes   \n",
       "6728  grated cheese                NaN            NaN            NaN   \n",
       "7270     fresh tuna  whole wheat pasta    ground beef  mineral water   \n",
       "4263         shrimp          champagne            NaN            NaN   \n",
       "4971    ground beef      mineral water       pancakes          salad   \n",
       "4905         shrimp        ground beef      spaghetti            NaN   \n",
       "5768         butter            cookies            NaN            NaN   \n",
       "6761      meatballs   whole wheat rice           cake            NaN   \n",
       "4431   dessert wine  frozen vegetables      spaghetti            NaN   \n",
       "5253   green grapes        cooking oil   french fries      green tea   \n",
       "\n",
       "        green grapes  whole weat flour          yams  cottage cheese  \\\n",
       "4928            rice           ketchup  tomato juice  low fat yogurt   \n",
       "6728             NaN               NaN           NaN             NaN   \n",
       "7270       olive oil  whole wheat rice          cake        escalope   \n",
       "4263             NaN               NaN           NaN             NaN   \n",
       "4971  low fat yogurt               NaN           NaN             NaN   \n",
       "4905             NaN               NaN           NaN             NaN   \n",
       "5768             NaN               NaN           NaN             NaN   \n",
       "6761             NaN               NaN           NaN             NaN   \n",
       "4431             NaN               NaN           NaN             NaN   \n",
       "5253             NaN               NaN           NaN             NaN   \n",
       "\n",
       "     energy drink tomato juice low fat yogurt green tea honey salad  \\\n",
       "4928          NaN          NaN            NaN       NaN   NaN   NaN   \n",
       "6728          NaN          NaN            NaN       NaN   NaN   NaN   \n",
       "7270  fresh bread          NaN            NaN       NaN   NaN   NaN   \n",
       "4263          NaN          NaN            NaN       NaN   NaN   NaN   \n",
       "4971          NaN          NaN            NaN       NaN   NaN   NaN   \n",
       "4905          NaN          NaN            NaN       NaN   NaN   NaN   \n",
       "5768          NaN          NaN            NaN       NaN   NaN   NaN   \n",
       "6761          NaN          NaN            NaN       NaN   NaN   NaN   \n",
       "4431          NaN          NaN            NaN       NaN   NaN   NaN   \n",
       "5253          NaN          NaN            NaN       NaN   NaN   NaN   \n",
       "\n",
       "     mineral water salmon antioxydant juice frozen smoothie spinach  olive oil  \n",
       "4928           NaN    NaN               NaN             NaN     NaN        NaN  \n",
       "6728           NaN    NaN               NaN             NaN     NaN        NaN  \n",
       "7270           NaN    NaN               NaN             NaN     NaN        NaN  \n",
       "4263           NaN    NaN               NaN             NaN     NaN        NaN  \n",
       "4971           NaN    NaN               NaN             NaN     NaN        NaN  \n",
       "4905           NaN    NaN               NaN             NaN     NaN        NaN  \n",
       "5768           NaN    NaN               NaN             NaN     NaN        NaN  \n",
       "6761           NaN    NaN               NaN             NaN     NaN        NaN  \n",
       "4431           NaN    NaN               NaN             NaN     NaN        NaN  \n",
       "5253           NaN    NaN               NaN             NaN     NaN        NaN  "
      ],
      "text/html": "<div>\n<style scoped>\n    .dataframe tbody tr th:only-of-type {\n        vertical-align: middle;\n    }\n\n    .dataframe tbody tr th {\n        vertical-align: top;\n    }\n\n    .dataframe thead th {\n        text-align: right;\n    }\n</style>\n<table border=\"1\" class=\"dataframe\">\n  <thead>\n    <tr style=\"text-align: right;\">\n      <th></th>\n      <th>shrimp</th>\n      <th>almonds</th>\n      <th>avocado</th>\n      <th>vegetables mix</th>\n      <th>green grapes</th>\n      <th>whole weat flour</th>\n      <th>yams</th>\n      <th>cottage cheese</th>\n      <th>energy drink</th>\n      <th>tomato juice</th>\n      <th>low fat yogurt</th>\n      <th>green tea</th>\n      <th>honey</th>\n      <th>salad</th>\n      <th>mineral water</th>\n      <th>salmon</th>\n      <th>antioxydant juice</th>\n      <th>frozen smoothie</th>\n      <th>spinach</th>\n      <th>olive oil</th>\n    </tr>\n  </thead>\n  <tbody>\n    <tr>\n      <th>4928</th>\n      <td>grated cheese</td>\n      <td>ground beef</td>\n      <td>mineral water</td>\n      <td>pancakes</td>\n      <td>rice</td>\n      <td>ketchup</td>\n      <td>tomato juice</td>\n      <td>low fat yogurt</td>\n      <td>NaN</td>\n      <td>NaN</td>\n      <td>NaN</td>\n      <td>NaN</td>\n      <td>NaN</td>\n      <td>NaN</td>\n      <td>NaN</td>\n      <td>NaN</td>\n      <td>NaN</td>\n      <td>NaN</td>\n      <td>NaN</td>\n      <td>NaN</td>\n    </tr>\n    <tr>\n      <th>6728</th>\n      <td>grated cheese</td>\n      <td>NaN</td>\n      <td>NaN</td>\n      <td>NaN</td>\n      <td>NaN</td>\n      <td>NaN</td>\n      <td>NaN</td>\n      <td>NaN</td>\n      <td>NaN</td>\n      <td>NaN</td>\n      <td>NaN</td>\n      <td>NaN</td>\n      <td>NaN</td>\n      <td>NaN</td>\n      <td>NaN</td>\n      <td>NaN</td>\n      <td>NaN</td>\n      <td>NaN</td>\n      <td>NaN</td>\n      <td>NaN</td>\n    </tr>\n    <tr>\n      <th>7270</th>\n      <td>fresh tuna</td>\n      <td>whole wheat pasta</td>\n      <td>ground beef</td>\n      <td>mineral water</td>\n      <td>olive oil</td>\n      <td>whole wheat rice</td>\n      <td>cake</td>\n      <td>escalope</td>\n      <td>fresh bread</td>\n      <td>NaN</td>\n      <td>NaN</td>\n      <td>NaN</td>\n      <td>NaN</td>\n      <td>NaN</td>\n      <td>NaN</td>\n      <td>NaN</td>\n      <td>NaN</td>\n      <td>NaN</td>\n      <td>NaN</td>\n      <td>NaN</td>\n    </tr>\n    <tr>\n      <th>4263</th>\n      <td>shrimp</td>\n      <td>champagne</td>\n      <td>NaN</td>\n      <td>NaN</td>\n      <td>NaN</td>\n      <td>NaN</td>\n      <td>NaN</td>\n      <td>NaN</td>\n      <td>NaN</td>\n      <td>NaN</td>\n      <td>NaN</td>\n      <td>NaN</td>\n      <td>NaN</td>\n      <td>NaN</td>\n      <td>NaN</td>\n      <td>NaN</td>\n      <td>NaN</td>\n      <td>NaN</td>\n      <td>NaN</td>\n      <td>NaN</td>\n    </tr>\n    <tr>\n      <th>4971</th>\n      <td>ground beef</td>\n      <td>mineral water</td>\n      <td>pancakes</td>\n      <td>salad</td>\n      <td>low fat yogurt</td>\n      <td>NaN</td>\n      <td>NaN</td>\n      <td>NaN</td>\n      <td>NaN</td>\n      <td>NaN</td>\n      <td>NaN</td>\n      <td>NaN</td>\n      <td>NaN</td>\n      <td>NaN</td>\n      <td>NaN</td>\n      <td>NaN</td>\n      <td>NaN</td>\n      <td>NaN</td>\n      <td>NaN</td>\n      <td>NaN</td>\n    </tr>\n    <tr>\n      <th>4905</th>\n      <td>shrimp</td>\n      <td>ground beef</td>\n      <td>spaghetti</td>\n      <td>NaN</td>\n      <td>NaN</td>\n      <td>NaN</td>\n      <td>NaN</td>\n      <td>NaN</td>\n      <td>NaN</td>\n      <td>NaN</td>\n      <td>NaN</td>\n      <td>NaN</td>\n      <td>NaN</td>\n      <td>NaN</td>\n      <td>NaN</td>\n      <td>NaN</td>\n      <td>NaN</td>\n      <td>NaN</td>\n      <td>NaN</td>\n      <td>NaN</td>\n    </tr>\n    <tr>\n      <th>5768</th>\n      <td>butter</td>\n      <td>cookies</td>\n      <td>NaN</td>\n      <td>NaN</td>\n      <td>NaN</td>\n      <td>NaN</td>\n      <td>NaN</td>\n      <td>NaN</td>\n      <td>NaN</td>\n      <td>NaN</td>\n      <td>NaN</td>\n      <td>NaN</td>\n      <td>NaN</td>\n      <td>NaN</td>\n      <td>NaN</td>\n      <td>NaN</td>\n      <td>NaN</td>\n      <td>NaN</td>\n      <td>NaN</td>\n      <td>NaN</td>\n    </tr>\n    <tr>\n      <th>6761</th>\n      <td>meatballs</td>\n      <td>whole wheat rice</td>\n      <td>cake</td>\n      <td>NaN</td>\n      <td>NaN</td>\n      <td>NaN</td>\n      <td>NaN</td>\n      <td>NaN</td>\n      <td>NaN</td>\n      <td>NaN</td>\n      <td>NaN</td>\n      <td>NaN</td>\n      <td>NaN</td>\n      <td>NaN</td>\n      <td>NaN</td>\n      <td>NaN</td>\n      <td>NaN</td>\n      <td>NaN</td>\n      <td>NaN</td>\n      <td>NaN</td>\n    </tr>\n    <tr>\n      <th>4431</th>\n      <td>dessert wine</td>\n      <td>frozen vegetables</td>\n      <td>spaghetti</td>\n      <td>NaN</td>\n      <td>NaN</td>\n      <td>NaN</td>\n      <td>NaN</td>\n      <td>NaN</td>\n      <td>NaN</td>\n      <td>NaN</td>\n      <td>NaN</td>\n      <td>NaN</td>\n      <td>NaN</td>\n      <td>NaN</td>\n      <td>NaN</td>\n      <td>NaN</td>\n      <td>NaN</td>\n      <td>NaN</td>\n      <td>NaN</td>\n      <td>NaN</td>\n    </tr>\n    <tr>\n      <th>5253</th>\n      <td>green grapes</td>\n      <td>cooking oil</td>\n      <td>french fries</td>\n      <td>green tea</td>\n      <td>NaN</td>\n      <td>NaN</td>\n      <td>NaN</td>\n      <td>NaN</td>\n      <td>NaN</td>\n      <td>NaN</td>\n      <td>NaN</td>\n      <td>NaN</td>\n      <td>NaN</td>\n      <td>NaN</td>\n      <td>NaN</td>\n      <td>NaN</td>\n      <td>NaN</td>\n      <td>NaN</td>\n      <td>NaN</td>\n      <td>NaN</td>\n    </tr>\n  </tbody>\n</table>\n</div>"
     },
     "metadata": {},
     "execution_count": 12
    }
   ],
   "source": [
    "df.sample(10)"
   ]
  },
  {
   "source": [
    "# making each customers shopping items an identical list\n",
    "trans = []\n",
    "for i in range(0, 7501):\n",
    "    trans.append([str(data.values[i,j]) for j in range(0, 20)])\n",
    "\n",
    "# conveting it into an numpy array\n",
    "trans = np.array(trans)\n",
    "\n",
    "# checking the shape of the array\n",
    "print(trans.shape)"
   ],
   "cell_type": "code",
   "metadata": {},
   "execution_count": 19,
   "outputs": []
  },
  {
   "cell_type": "code",
   "execution_count": 20,
   "metadata": {},
   "outputs": [],
   "source": [
    "te = TransactionEncoder()\n",
    "data = te.fit_transform(trans)\n",
    "data = pd.DataFrame(data, columns = te.columns_)"
   ]
  },
  {
   "cell_type": "code",
   "execution_count": 21,
   "metadata": {},
   "outputs": [
    {
     "output_type": "execute_result",
     "data": {
      "text/plain": [
       "Index(['mineral water', 'burgers', 'turkey', 'chocolate', 'frozen vegetables',\n",
       "       'spaghetti', 'shrimp', 'grated cheese', 'eggs', 'cookies',\n",
       "       'french fries', 'herb & pepper', 'ground beef', 'tomatoes', 'milk',\n",
       "       'escalope', 'fresh tuna', 'red wine', 'ham', 'cake', 'green tea',\n",
       "       'whole wheat pasta', 'pancakes', 'soup', 'muffins', 'energy bar',\n",
       "       'olive oil', 'champagne', 'avocado', 'pepper', 'butter',\n",
       "       'parmesan cheese', 'whole wheat rice', 'low fat yogurt', 'chicken',\n",
       "       'vegetables mix', 'pickles', 'meatballs', 'frozen smoothie',\n",
       "       'yogurt cake'],\n",
       "      dtype='object')"
      ]
     },
     "metadata": {},
     "execution_count": 21
    }
   ],
   "source": [
    "data = data.loc[:, ['mineral water', 'burgers', 'turkey', 'chocolate', 'frozen vegetables', 'spaghetti',\n",
    "                    'shrimp', 'grated cheese', 'eggs', 'cookies', 'french fries', 'herb & pepper', 'ground beef',\n",
    "                    'tomatoes', 'milk', 'escalope', 'fresh tuna', 'red wine', 'ham', 'cake', 'green tea',\n",
    "                    'whole wheat pasta', 'pancakes', 'soup', 'muffins', 'energy bar', 'olive oil', 'champagne', \n",
    "                    'avocado', 'pepper', 'butter', 'parmesan cheese', 'whole wheat rice', 'low fat yogurt', \n",
    "                    'chicken', 'vegetables mix', 'pickles', 'meatballs', 'frozen smoothie', 'yogurt cake']]"
   ]
  },
  {
   "cell_type": "code",
   "execution_count": 23,
   "metadata": {},
   "outputs": [
    {
     "output_type": "execute_result",
     "data": {
      "text/plain": [
       "   mineral water  burgers  turkey  chocolate  frozen vegetables  spaghetti  \\\n",
       "0          False     True   False      False              False      False   \n",
       "1          False    False   False      False              False      False   \n",
       "2          False    False    True      False              False      False   \n",
       "3           True    False   False      False              False      False   \n",
       "4          False    False   False      False              False      False   \n",
       "\n",
       "   shrimp  grated cheese   eggs  cookies  ...  butter  parmesan cheese  \\\n",
       "0   False          False   True    False  ...   False            False   \n",
       "1   False          False  False    False  ...   False            False   \n",
       "2   False          False  False    False  ...   False            False   \n",
       "3   False          False  False    False  ...   False            False   \n",
       "4   False          False  False    False  ...   False            False   \n",
       "\n",
       "   whole wheat rice  low fat yogurt  chicken  vegetables mix  pickles  \\\n",
       "0             False           False    False           False    False   \n",
       "1             False           False    False           False    False   \n",
       "2             False           False    False           False    False   \n",
       "3              True           False    False           False    False   \n",
       "4             False            True    False           False    False   \n",
       "\n",
       "   meatballs  frozen smoothie  yogurt cake  \n",
       "0       True            False        False  \n",
       "1      False            False        False  \n",
       "2      False            False        False  \n",
       "3      False            False        False  \n",
       "4      False            False        False  \n",
       "\n",
       "[5 rows x 40 columns]"
      ],
      "text/html": "<div>\n<style scoped>\n    .dataframe tbody tr th:only-of-type {\n        vertical-align: middle;\n    }\n\n    .dataframe tbody tr th {\n        vertical-align: top;\n    }\n\n    .dataframe thead th {\n        text-align: right;\n    }\n</style>\n<table border=\"1\" class=\"dataframe\">\n  <thead>\n    <tr style=\"text-align: right;\">\n      <th></th>\n      <th>mineral water</th>\n      <th>burgers</th>\n      <th>turkey</th>\n      <th>chocolate</th>\n      <th>frozen vegetables</th>\n      <th>spaghetti</th>\n      <th>shrimp</th>\n      <th>grated cheese</th>\n      <th>eggs</th>\n      <th>cookies</th>\n      <th>...</th>\n      <th>butter</th>\n      <th>parmesan cheese</th>\n      <th>whole wheat rice</th>\n      <th>low fat yogurt</th>\n      <th>chicken</th>\n      <th>vegetables mix</th>\n      <th>pickles</th>\n      <th>meatballs</th>\n      <th>frozen smoothie</th>\n      <th>yogurt cake</th>\n    </tr>\n  </thead>\n  <tbody>\n    <tr>\n      <th>0</th>\n      <td>False</td>\n      <td>True</td>\n      <td>False</td>\n      <td>False</td>\n      <td>False</td>\n      <td>False</td>\n      <td>False</td>\n      <td>False</td>\n      <td>True</td>\n      <td>False</td>\n      <td>...</td>\n      <td>False</td>\n      <td>False</td>\n      <td>False</td>\n      <td>False</td>\n      <td>False</td>\n      <td>False</td>\n      <td>False</td>\n      <td>True</td>\n      <td>False</td>\n      <td>False</td>\n    </tr>\n    <tr>\n      <th>1</th>\n      <td>False</td>\n      <td>False</td>\n      <td>False</td>\n      <td>False</td>\n      <td>False</td>\n      <td>False</td>\n      <td>False</td>\n      <td>False</td>\n      <td>False</td>\n      <td>False</td>\n      <td>...</td>\n      <td>False</td>\n      <td>False</td>\n      <td>False</td>\n      <td>False</td>\n      <td>False</td>\n      <td>False</td>\n      <td>False</td>\n      <td>False</td>\n      <td>False</td>\n      <td>False</td>\n    </tr>\n    <tr>\n      <th>2</th>\n      <td>False</td>\n      <td>False</td>\n      <td>True</td>\n      <td>False</td>\n      <td>False</td>\n      <td>False</td>\n      <td>False</td>\n      <td>False</td>\n      <td>False</td>\n      <td>False</td>\n      <td>...</td>\n      <td>False</td>\n      <td>False</td>\n      <td>False</td>\n      <td>False</td>\n      <td>False</td>\n      <td>False</td>\n      <td>False</td>\n      <td>False</td>\n      <td>False</td>\n      <td>False</td>\n    </tr>\n    <tr>\n      <th>3</th>\n      <td>True</td>\n      <td>False</td>\n      <td>False</td>\n      <td>False</td>\n      <td>False</td>\n      <td>False</td>\n      <td>False</td>\n      <td>False</td>\n      <td>False</td>\n      <td>False</td>\n      <td>...</td>\n      <td>False</td>\n      <td>False</td>\n      <td>True</td>\n      <td>False</td>\n      <td>False</td>\n      <td>False</td>\n      <td>False</td>\n      <td>False</td>\n      <td>False</td>\n      <td>False</td>\n    </tr>\n    <tr>\n      <th>4</th>\n      <td>False</td>\n      <td>False</td>\n      <td>False</td>\n      <td>False</td>\n      <td>False</td>\n      <td>False</td>\n      <td>False</td>\n      <td>False</td>\n      <td>False</td>\n      <td>False</td>\n      <td>...</td>\n      <td>False</td>\n      <td>False</td>\n      <td>False</td>\n      <td>True</td>\n      <td>False</td>\n      <td>False</td>\n      <td>False</td>\n      <td>False</td>\n      <td>False</td>\n      <td>False</td>\n    </tr>\n  </tbody>\n</table>\n<p>5 rows × 40 columns</p>\n</div>"
     },
     "metadata": {},
     "execution_count": 23
    }
   ],
   "source": [
    "data.columns"
   ]
  },
  {
   "cell_type": "code",
   "execution_count": 24,
   "metadata": {},
   "outputs": [
    {
     "output_type": "execute_result",
     "data": {
      "text/plain": [
       "      support                            itemsets\n",
       "0    0.238267                     (mineral water)\n",
       "1    0.087200                           (burgers)\n",
       "2    0.062533                            (turkey)\n",
       "3    0.163867                         (chocolate)\n",
       "4    0.095333                 (frozen vegetables)\n",
       "..        ...                                 ...\n",
       "206  0.010133  (mineral water, eggs, ground beef)\n",
       "207  0.013067         (mineral water, eggs, milk)\n",
       "208  0.011067  (mineral water, ground beef, milk)\n",
       "209  0.010533        (spaghetti, eggs, chocolate)\n",
       "210  0.010933        (spaghetti, milk, chocolate)\n",
       "\n",
       "[211 rows x 2 columns]"
      ],
      "text/html": "<div>\n<style scoped>\n    .dataframe tbody tr th:only-of-type {\n        vertical-align: middle;\n    }\n\n    .dataframe tbody tr th {\n        vertical-align: top;\n    }\n\n    .dataframe thead th {\n        text-align: right;\n    }\n</style>\n<table border=\"1\" class=\"dataframe\">\n  <thead>\n    <tr style=\"text-align: right;\">\n      <th></th>\n      <th>support</th>\n      <th>itemsets</th>\n    </tr>\n  </thead>\n  <tbody>\n    <tr>\n      <th>0</th>\n      <td>0.238267</td>\n      <td>(mineral water)</td>\n    </tr>\n    <tr>\n      <th>1</th>\n      <td>0.087200</td>\n      <td>(burgers)</td>\n    </tr>\n    <tr>\n      <th>2</th>\n      <td>0.062533</td>\n      <td>(turkey)</td>\n    </tr>\n    <tr>\n      <th>3</th>\n      <td>0.163867</td>\n      <td>(chocolate)</td>\n    </tr>\n    <tr>\n      <th>4</th>\n      <td>0.095333</td>\n      <td>(frozen vegetables)</td>\n    </tr>\n    <tr>\n      <th>...</th>\n      <td>...</td>\n      <td>...</td>\n    </tr>\n    <tr>\n      <th>206</th>\n      <td>0.010133</td>\n      <td>(mineral water, eggs, ground beef)</td>\n    </tr>\n    <tr>\n      <th>207</th>\n      <td>0.013067</td>\n      <td>(mineral water, eggs, milk)</td>\n    </tr>\n    <tr>\n      <th>208</th>\n      <td>0.011067</td>\n      <td>(mineral water, ground beef, milk)</td>\n    </tr>\n    <tr>\n      <th>209</th>\n      <td>0.010533</td>\n      <td>(spaghetti, eggs, chocolate)</td>\n    </tr>\n    <tr>\n      <th>210</th>\n      <td>0.010933</td>\n      <td>(spaghetti, milk, chocolate)</td>\n    </tr>\n  </tbody>\n</table>\n<p>211 rows × 2 columns</p>\n</div>"
     },
     "metadata": {},
     "execution_count": 24
    }
   ],
   "source": [
    "data.head()"
   ]
  },
  {
   "cell_type": "code",
   "execution_count": 25,
   "metadata": {},
   "outputs": [
    {
     "output_type": "execute_result",
     "data": {
      "text/plain": [
       "     support                    itemsets  length\n",
       "0   0.238267             (mineral water)       1\n",
       "1   0.087200                   (burgers)       1\n",
       "2   0.062533                    (turkey)       1\n",
       "3   0.163867                 (chocolate)       1\n",
       "4   0.095333         (frozen vegetables)       1\n",
       "5   0.174133                 (spaghetti)       1\n",
       "6   0.071333                    (shrimp)       1\n",
       "7   0.052400             (grated cheese)       1\n",
       "8   0.179733                      (eggs)       1\n",
       "9   0.080400                   (cookies)       1\n",
       "10  0.170933              (french fries)       1\n",
       "11  0.098267               (ground beef)       1\n",
       "12  0.068400                  (tomatoes)       1\n",
       "13  0.129600                      (milk)       1\n",
       "14  0.079333                  (escalope)       1\n",
       "15  0.081067                      (cake)       1\n",
       "16  0.132000                 (green tea)       1\n",
       "17  0.095067                  (pancakes)       1\n",
       "18  0.050533                      (soup)       1\n",
       "19  0.065733                 (olive oil)       1\n",
       "20  0.058533          (whole wheat rice)       1\n",
       "21  0.076400            (low fat yogurt)       1\n",
       "22  0.060000                   (chicken)       1\n",
       "23  0.063200           (frozen smoothie)       1\n",
       "24  0.052667  (mineral water, chocolate)       2\n",
       "25  0.059733  (spaghetti, mineral water)       2\n",
       "26  0.050933       (mineral water, eggs)       2"
      ],
      "text/html": "<div>\n<style scoped>\n    .dataframe tbody tr th:only-of-type {\n        vertical-align: middle;\n    }\n\n    .dataframe tbody tr th {\n        vertical-align: top;\n    }\n\n    .dataframe thead th {\n        text-align: right;\n    }\n</style>\n<table border=\"1\" class=\"dataframe\">\n  <thead>\n    <tr style=\"text-align: right;\">\n      <th></th>\n      <th>support</th>\n      <th>itemsets</th>\n      <th>length</th>\n    </tr>\n  </thead>\n  <tbody>\n    <tr>\n      <th>0</th>\n      <td>0.238267</td>\n      <td>(mineral water)</td>\n      <td>1</td>\n    </tr>\n    <tr>\n      <th>1</th>\n      <td>0.087200</td>\n      <td>(burgers)</td>\n      <td>1</td>\n    </tr>\n    <tr>\n      <th>2</th>\n      <td>0.062533</td>\n      <td>(turkey)</td>\n      <td>1</td>\n    </tr>\n    <tr>\n      <th>3</th>\n      <td>0.163867</td>\n      <td>(chocolate)</td>\n      <td>1</td>\n    </tr>\n    <tr>\n      <th>4</th>\n      <td>0.095333</td>\n      <td>(frozen vegetables)</td>\n      <td>1</td>\n    </tr>\n    <tr>\n      <th>5</th>\n      <td>0.174133</td>\n      <td>(spaghetti)</td>\n      <td>1</td>\n    </tr>\n    <tr>\n      <th>6</th>\n      <td>0.071333</td>\n      <td>(shrimp)</td>\n      <td>1</td>\n    </tr>\n    <tr>\n      <th>7</th>\n      <td>0.052400</td>\n      <td>(grated cheese)</td>\n      <td>1</td>\n    </tr>\n    <tr>\n      <th>8</th>\n      <td>0.179733</td>\n      <td>(eggs)</td>\n      <td>1</td>\n    </tr>\n    <tr>\n      <th>9</th>\n      <td>0.080400</td>\n      <td>(cookies)</td>\n      <td>1</td>\n    </tr>\n    <tr>\n      <th>10</th>\n      <td>0.170933</td>\n      <td>(french fries)</td>\n      <td>1</td>\n    </tr>\n    <tr>\n      <th>11</th>\n      <td>0.098267</td>\n      <td>(ground beef)</td>\n      <td>1</td>\n    </tr>\n    <tr>\n      <th>12</th>\n      <td>0.068400</td>\n      <td>(tomatoes)</td>\n      <td>1</td>\n    </tr>\n    <tr>\n      <th>13</th>\n      <td>0.129600</td>\n      <td>(milk)</td>\n      <td>1</td>\n    </tr>\n    <tr>\n      <th>14</th>\n      <td>0.079333</td>\n      <td>(escalope)</td>\n      <td>1</td>\n    </tr>\n    <tr>\n      <th>15</th>\n      <td>0.081067</td>\n      <td>(cake)</td>\n      <td>1</td>\n    </tr>\n    <tr>\n      <th>16</th>\n      <td>0.132000</td>\n      <td>(green tea)</td>\n      <td>1</td>\n    </tr>\n    <tr>\n      <th>17</th>\n      <td>0.095067</td>\n      <td>(pancakes)</td>\n      <td>1</td>\n    </tr>\n    <tr>\n      <th>18</th>\n      <td>0.050533</td>\n      <td>(soup)</td>\n      <td>1</td>\n    </tr>\n    <tr>\n      <th>19</th>\n      <td>0.065733</td>\n      <td>(olive oil)</td>\n      <td>1</td>\n    </tr>\n    <tr>\n      <th>20</th>\n      <td>0.058533</td>\n      <td>(whole wheat rice)</td>\n      <td>1</td>\n    </tr>\n    <tr>\n      <th>21</th>\n      <td>0.076400</td>\n      <td>(low fat yogurt)</td>\n      <td>1</td>\n    </tr>\n    <tr>\n      <th>22</th>\n      <td>0.060000</td>\n      <td>(chicken)</td>\n      <td>1</td>\n    </tr>\n    <tr>\n      <th>23</th>\n      <td>0.063200</td>\n      <td>(frozen smoothie)</td>\n      <td>1</td>\n    </tr>\n    <tr>\n      <th>24</th>\n      <td>0.052667</td>\n      <td>(mineral water, chocolate)</td>\n      <td>2</td>\n    </tr>\n    <tr>\n      <th>25</th>\n      <td>0.059733</td>\n      <td>(spaghetti, mineral water)</td>\n      <td>2</td>\n    </tr>\n    <tr>\n      <th>26</th>\n      <td>0.050933</td>\n      <td>(mineral water, eggs)</td>\n      <td>2</td>\n    </tr>\n  </tbody>\n</table>\n</div>"
     },
     "metadata": {},
     "execution_count": 25
    }
   ],
   "source": [
    "apriori(data, min_support = 0.01, use_colnames = True)"
   ]
  },
  {
   "cell_type": "code",
   "execution_count": 27,
   "metadata": {},
   "outputs": [
    {
     "output_type": "execute_result",
     "data": {
      "text/plain": [
       "     support                    itemsets  length\n",
       "24  0.052667  (mineral water, chocolate)       2\n",
       "25  0.059733  (spaghetti, mineral water)       2\n",
       "26  0.050933       (mineral water, eggs)       2"
      ],
      "text/html": "<div>\n<style scoped>\n    .dataframe tbody tr th:only-of-type {\n        vertical-align: middle;\n    }\n\n    .dataframe tbody tr th {\n        vertical-align: top;\n    }\n\n    .dataframe thead th {\n        text-align: right;\n    }\n</style>\n<table border=\"1\" class=\"dataframe\">\n  <thead>\n    <tr style=\"text-align: right;\">\n      <th></th>\n      <th>support</th>\n      <th>itemsets</th>\n      <th>length</th>\n    </tr>\n  </thead>\n  <tbody>\n    <tr>\n      <th>24</th>\n      <td>0.052667</td>\n      <td>(mineral water, chocolate)</td>\n      <td>2</td>\n    </tr>\n    <tr>\n      <th>25</th>\n      <td>0.059733</td>\n      <td>(spaghetti, mineral water)</td>\n      <td>2</td>\n    </tr>\n    <tr>\n      <th>26</th>\n      <td>0.050933</td>\n      <td>(mineral water, eggs)</td>\n      <td>2</td>\n    </tr>\n  </tbody>\n</table>\n</div>"
     },
     "metadata": {},
     "execution_count": 27
    }
   ],
   "source": [
    "frequent_itemsets = apriori(data, min_support = 0.05, use_colnames=True)\n",
    "frequent_itemsets['length'] = frequent_itemsets['itemsets'].apply(lambda x: len(x))\n",
    "frequent_itemsets"
   ]
  },
  {
   "cell_type": "code",
   "execution_count": 28,
   "metadata": {},
   "outputs": [
    {
     "output_type": "execute_result",
     "data": {
      "text/plain": [
       "     support             itemsets  length\n",
       "0   0.238267      (mineral water)       1\n",
       "1   0.087200            (burgers)       1\n",
       "2   0.062533             (turkey)       1\n",
       "3   0.163867          (chocolate)       1\n",
       "4   0.095333  (frozen vegetables)       1\n",
       "5   0.174133          (spaghetti)       1\n",
       "6   0.071333             (shrimp)       1\n",
       "7   0.052400      (grated cheese)       1\n",
       "8   0.179733               (eggs)       1\n",
       "9   0.080400            (cookies)       1\n",
       "10  0.170933       (french fries)       1\n",
       "11  0.098267        (ground beef)       1\n",
       "12  0.068400           (tomatoes)       1\n",
       "13  0.129600               (milk)       1\n",
       "14  0.079333           (escalope)       1\n",
       "15  0.081067               (cake)       1\n",
       "16  0.132000          (green tea)       1\n",
       "17  0.095067           (pancakes)       1\n",
       "18  0.050533               (soup)       1\n",
       "19  0.065733          (olive oil)       1\n",
       "20  0.058533   (whole wheat rice)       1\n",
       "21  0.076400     (low fat yogurt)       1\n",
       "22  0.060000            (chicken)       1\n",
       "23  0.063200    (frozen smoothie)       1"
      ],
      "text/html": "<div>\n<style scoped>\n    .dataframe tbody tr th:only-of-type {\n        vertical-align: middle;\n    }\n\n    .dataframe tbody tr th {\n        vertical-align: top;\n    }\n\n    .dataframe thead th {\n        text-align: right;\n    }\n</style>\n<table border=\"1\" class=\"dataframe\">\n  <thead>\n    <tr style=\"text-align: right;\">\n      <th></th>\n      <th>support</th>\n      <th>itemsets</th>\n      <th>length</th>\n    </tr>\n  </thead>\n  <tbody>\n    <tr>\n      <th>0</th>\n      <td>0.238267</td>\n      <td>(mineral water)</td>\n      <td>1</td>\n    </tr>\n    <tr>\n      <th>1</th>\n      <td>0.087200</td>\n      <td>(burgers)</td>\n      <td>1</td>\n    </tr>\n    <tr>\n      <th>2</th>\n      <td>0.062533</td>\n      <td>(turkey)</td>\n      <td>1</td>\n    </tr>\n    <tr>\n      <th>3</th>\n      <td>0.163867</td>\n      <td>(chocolate)</td>\n      <td>1</td>\n    </tr>\n    <tr>\n      <th>4</th>\n      <td>0.095333</td>\n      <td>(frozen vegetables)</td>\n      <td>1</td>\n    </tr>\n    <tr>\n      <th>5</th>\n      <td>0.174133</td>\n      <td>(spaghetti)</td>\n      <td>1</td>\n    </tr>\n    <tr>\n      <th>6</th>\n      <td>0.071333</td>\n      <td>(shrimp)</td>\n      <td>1</td>\n    </tr>\n    <tr>\n      <th>7</th>\n      <td>0.052400</td>\n      <td>(grated cheese)</td>\n      <td>1</td>\n    </tr>\n    <tr>\n      <th>8</th>\n      <td>0.179733</td>\n      <td>(eggs)</td>\n      <td>1</td>\n    </tr>\n    <tr>\n      <th>9</th>\n      <td>0.080400</td>\n      <td>(cookies)</td>\n      <td>1</td>\n    </tr>\n    <tr>\n      <th>10</th>\n      <td>0.170933</td>\n      <td>(french fries)</td>\n      <td>1</td>\n    </tr>\n    <tr>\n      <th>11</th>\n      <td>0.098267</td>\n      <td>(ground beef)</td>\n      <td>1</td>\n    </tr>\n    <tr>\n      <th>12</th>\n      <td>0.068400</td>\n      <td>(tomatoes)</td>\n      <td>1</td>\n    </tr>\n    <tr>\n      <th>13</th>\n      <td>0.129600</td>\n      <td>(milk)</td>\n      <td>1</td>\n    </tr>\n    <tr>\n      <th>14</th>\n      <td>0.079333</td>\n      <td>(escalope)</td>\n      <td>1</td>\n    </tr>\n    <tr>\n      <th>15</th>\n      <td>0.081067</td>\n      <td>(cake)</td>\n      <td>1</td>\n    </tr>\n    <tr>\n      <th>16</th>\n      <td>0.132000</td>\n      <td>(green tea)</td>\n      <td>1</td>\n    </tr>\n    <tr>\n      <th>17</th>\n      <td>0.095067</td>\n      <td>(pancakes)</td>\n      <td>1</td>\n    </tr>\n    <tr>\n      <th>18</th>\n      <td>0.050533</td>\n      <td>(soup)</td>\n      <td>1</td>\n    </tr>\n    <tr>\n      <th>19</th>\n      <td>0.065733</td>\n      <td>(olive oil)</td>\n      <td>1</td>\n    </tr>\n    <tr>\n      <th>20</th>\n      <td>0.058533</td>\n      <td>(whole wheat rice)</td>\n      <td>1</td>\n    </tr>\n    <tr>\n      <th>21</th>\n      <td>0.076400</td>\n      <td>(low fat yogurt)</td>\n      <td>1</td>\n    </tr>\n    <tr>\n      <th>22</th>\n      <td>0.060000</td>\n      <td>(chicken)</td>\n      <td>1</td>\n    </tr>\n    <tr>\n      <th>23</th>\n      <td>0.063200</td>\n      <td>(frozen smoothie)</td>\n      <td>1</td>\n    </tr>\n  </tbody>\n</table>\n</div>"
     },
     "metadata": {},
     "execution_count": 28
    }
   ],
   "source": [
    "frequent_itemsets[ (frequent_itemsets['length'] == 2) &\n",
    "                   (frequent_itemsets['support'] >= 0.01) ]"
   ]
  },
  {
   "cell_type": "code",
   "execution_count": null,
   "metadata": {},
   "outputs": [],
   "source": [
    "frequent_itemsets[ (frequent_itemsets['length'] == 1) &\n",
    "                   (frequent_itemsets['support'] >= 0.01) ]"
   ]
  }
 ]
}